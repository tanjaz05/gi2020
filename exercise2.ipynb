{
 "cells": [
  {
   "cell_type": "code",
   "execution_count": 2,
   "metadata": {},
   "outputs": [
    {
     "name": "stdout",
     "output_type": "stream",
     "text": [
      "Total number of reads:  2921629\n",
      "Number of unmapped reads:  17765\n",
      "Number of reads with quality 0:  126628\n",
      "Average mapping quality for all the reads:  55.91379158681681\n",
      "Average mapping quality if reads with 0 mapp quality are filtered out:  58.446975510921106\n"
     ]
    }
   ],
   "source": [
    "import pysam;\n",
    "\n",
    "bam_file = pysam.AlignmentFile(\"/sbgenomics/project-files/merged-tumor.bam\");\n",
    "total_reads = 0;\n",
    "unmapped_reads = 0;\n",
    "reads_with_quality_0 = 0;\n",
    "sum_quality = 0;\n",
    "for read in bam_file:\n",
    "    total_reads += 1;\n",
    "    unmapped_reads += 1 if read.is_unmapped else 0;\n",
    "    quality = read.mapping_quality;\n",
    "    reads_with_quality_0 += 1 if quality == 0 else 0;\n",
    "    sum_quality += quality;\n",
    "print('Total number of reads: ', total_reads);\n",
    "print('Number of unmapped reads: ', unmapped_reads);\n",
    "print('Number of reads with quality 0: ', reads_with_quality_0);\n",
    "print('Average mapping quality for all the reads: ', sum_quality/total_reads);\n",
    "print('Average mapping quality if reads with 0 mapp quality are filtered out: ', sum_quality/(total_reads - reads_with_quality_0));"
   ]
  },
  {
   "cell_type": "code",
   "execution_count": null,
   "metadata": {},
   "outputs": [],
   "source": []
  },
  {
   "cell_type": "code",
   "execution_count": null,
   "metadata": {},
   "outputs": [],
   "source": []
  }
 ],
 "metadata": {
  "kernelspec": {
   "display_name": "Python 3",
   "language": "python",
   "name": "python3"
  },
  "language_info": {
   "codemirror_mode": {
    "name": "ipython",
    "version": 3
   },
   "file_extension": ".py",
   "mimetype": "text/x-python",
   "name": "python",
   "nbconvert_exporter": "python",
   "pygments_lexer": "ipython3",
   "version": "3.6.3"
  }
 },
 "nbformat": 4,
 "nbformat_minor": 2
}
