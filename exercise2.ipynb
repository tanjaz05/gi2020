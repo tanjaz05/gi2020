import pysam;

bam_file = pysam.AlignmentFile("/sbgenomics/project-files/merged-tumor.bam");
total_reads = 0;
unmapped_reads = 0;
reads_with_quality_0 = 0;
sum_quality = 0;
for read in bam_file:
    total_reads += 1;
    unmapped_reads += 1 if read.is_unmapped else 0;
    quality = read.mapping_quality;
    reads_with_quality_0 += 1 if quality == 0 else 0;
    sum_quality += quality;
print('Total number of reads: ', total_reads);
print('Number of unmapped reads: ', unmapped_reads);
print('Number of reads with quality 0: ', reads_with_quality_0);
print('Average mapping quality for all the reads: ', sum_quality/total_reads);
print('Average mapping quality if reads with 0 mapp quality are filtered out: ', sum_quality/(total_reads - reads_with_quality_0));
